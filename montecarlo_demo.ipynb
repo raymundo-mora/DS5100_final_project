{
 "cells": [
  {
   "cell_type": "markdown",
   "id": "82271ee5-027d-4881-8006-cc1548e3aa68",
   "metadata": {},
   "source": [
    "# motecarlo Demo \n"
   ]
  },
  {
   "cell_type": "code",
   "execution_count": 94,
   "id": "e03097d8-8ecb-4e33-9323-3a9915eaa57c",
   "metadata": {},
   "outputs": [],
   "source": [
    "import matplotlib.pyplot as plt\n",
    "import random\n",
    "from montecarlo import *\n"
   ]
  },
  {
   "cell_type": "markdown",
   "id": "e0555d2d-d8fe-42ea-b72e-e9a64fc200af",
   "metadata": {},
   "source": [
    "# Scenario 1: A 2-headed coin"
   ]
  },
  {
   "cell_type": "markdown",
   "id": "1317c8d9-31af-4636-9844-a70f51a77bf7",
   "metadata": {},
   "source": [
    "### 1. Create a fair coin (with faces H and T) and one unfair coin, in which one of the faces has a weight of 5 and the others 1"
   ]
  },
  {
   "cell_type": "code",
   "execution_count": 2,
   "id": "fd8e75be-9ecf-4664-9de9-4c3c34efe70c",
   "metadata": {},
   "outputs": [],
   "source": [
    "fair_coin = Die(['H','T'])\n",
    "unfair_coin = Die(['H','T'])\n",
    "unfair_coin.change_w('T',5)"
   ]
  },
  {
   "cell_type": "code",
   "execution_count": 3,
   "id": "a642b305-dbfb-4d45-918e-1b0072abaf42",
   "metadata": {},
   "outputs": [
    {
     "data": {
      "text/html": [
       "<div>\n",
       "<style scoped>\n",
       "    .dataframe tbody tr th:only-of-type {\n",
       "        vertical-align: middle;\n",
       "    }\n",
       "\n",
       "    .dataframe tbody tr th {\n",
       "        vertical-align: top;\n",
       "    }\n",
       "\n",
       "    .dataframe thead th {\n",
       "        text-align: right;\n",
       "    }\n",
       "</style>\n",
       "<table border=\"1\" class=\"dataframe\">\n",
       "  <thead>\n",
       "    <tr style=\"text-align: right;\">\n",
       "      <th></th>\n",
       "      <th>face</th>\n",
       "      <th>weight</th>\n",
       "    </tr>\n",
       "  </thead>\n",
       "  <tbody>\n",
       "    <tr>\n",
       "      <th>0</th>\n",
       "      <td>H</td>\n",
       "      <td>1.0</td>\n",
       "    </tr>\n",
       "    <tr>\n",
       "      <th>1</th>\n",
       "      <td>T</td>\n",
       "      <td>5.0</td>\n",
       "    </tr>\n",
       "  </tbody>\n",
       "</table>\n",
       "</div>"
      ],
      "text/plain": [
       "  face  weight\n",
       "0    H     1.0\n",
       "1    T     5.0"
      ]
     },
     "execution_count": 3,
     "metadata": {},
     "output_type": "execute_result"
    }
   ],
   "source": [
    "unfair_coin._die_df"
   ]
  },
  {
   "cell_type": "markdown",
   "id": "34211578-0f2c-4952-8320-fdffd86d1b0c",
   "metadata": {},
   "source": [
    "### 2. Play a game of 1000 flips of three coins with all fair dice."
   ]
  },
  {
   "cell_type": "code",
   "execution_count": 4,
   "id": "5164c1e2-b550-4203-bef5-36abaf311b5c",
   "metadata": {},
   "outputs": [],
   "source": [
    "game1 = Game([fair_coin,fair_coin,fair_coin])\n",
    "nrolls1 = 1000\n",
    "game1.play(nrolls1)"
   ]
  },
  {
   "cell_type": "markdown",
   "id": "d88837bc-8305-4892-a94d-6544abc9325c",
   "metadata": {},
   "source": [
    "### 3. Play a game of 1000 flips with two unfair dice and one fair die."
   ]
  },
  {
   "cell_type": "code",
   "execution_count": 5,
   "id": "2dc12a8d-6bb2-4f5d-afb6-ebb6acce9162",
   "metadata": {},
   "outputs": [],
   "source": [
    "game2 = Game([unfair_coin,unfair_coin,fair_coin])\n",
    "nrolls2 = 1000\n",
    "game2.play(nrolls2)"
   ]
  },
  {
   "cell_type": "markdown",
   "id": "6d804635-7fc8-4e01-b8cd-719966036c0c",
   "metadata": {},
   "source": [
    "### 4. For each game, use an Analyzer object to determine the relative frequency of jackpots – getting either all Hs or all Ts. \n",
    "### 5. Compute relative frequency as the number of jackpots over the total number of rolls."
   ]
  },
  {
   "cell_type": "code",
   "execution_count": 6,
   "id": "2e35f723-74db-46cd-b107-a8e56f5bad8a",
   "metadata": {},
   "outputs": [],
   "source": [
    "analyzer1 = Analyzer(game1)\n",
    "analyzer2 = Analyzer(game2)"
   ]
  },
  {
   "cell_type": "code",
   "execution_count": 7,
   "id": "298b9896-e13e-49c9-a4df-8e8a5205205a",
   "metadata": {},
   "outputs": [
    {
     "name": "stdout",
     "output_type": "stream",
     "text": [
      "Game 1 jackpot frequency: 0.239\n",
      "Game 2 Jackpot frequency: 0.352\n"
     ]
    }
   ],
   "source": [
    "g1jf = analyzer1.jackpot()/nrolls1\n",
    "g2jf = analyzer2.jackpot()/nrolls2\n",
    "print(\"Game 1 jackpot frequency:\",g1jf)\n",
    "print(\"Game 2 Jackpot frequency:\",g2jf)"
   ]
  },
  {
   "cell_type": "markdown",
   "id": "96c21ce9-1c4c-4084-8da2-28d1c051c2c2",
   "metadata": {},
   "source": [
    "### 6. Show your results, comparing the two relative frequencies, in a simple bar chart."
   ]
  },
  {
   "cell_type": "code",
   "execution_count": 8,
   "id": "71a5b6cb-ec51-4741-aa2c-b8365fbde552",
   "metadata": {},
   "outputs": [
    {
     "data": {
      "text/plain": [
       "<BarContainer object of 2 artists>"
      ]
     },
     "execution_count": 8,
     "metadata": {},
     "output_type": "execute_result"
    },
    {
     "data": {
      "image/png": "[encoded data removed]",
      "text/plain": [
       "<Figure size 432x288 with 1 Axes>"
      ]
     },
     "metadata": {
      "needs_background": "light"
     },
     "output_type": "display_data"
    }
   ],
   "source": [
    "plt.bar(['Game 1 jackpot frequency','Game 2 jackpot frequency'],[g1jf,g2jf])"
   ]
  },
  {
   "cell_type": "markdown",
   "id": "95de22f8-bfe0-46e2-af46-15c57d4f47fc",
   "metadata": {},
   "source": [
    "## A 6-sided die\n",
    "### 1. Create a fair die and two unfair dice, all of six sides with the faces 1 through 6. One unfair die (Type 1) will weight 6 five times more than the others (i.e. it has weight of 5 and the others a weight of 1 each). The other unfair die (Type 2) will  weight 1 five times more than the others."
   ]
  },
  {
   "cell_type": "code",
   "execution_count": 9,
   "id": "5afdd21e-ab22-4216-802c-a82f3665ae48",
   "metadata": {},
   "outputs": [
    {
     "data": {
      "text/html": [
       "<div>\n",
       "<style scoped>\n",
       "    .dataframe tbody tr th:only-of-type {\n",
       "        vertical-align: middle;\n",
       "    }\n",
       "\n",
       "    .dataframe tbody tr th {\n",
       "        vertical-align: top;\n",
       "    }\n",
       "\n",
       "    .dataframe thead th {\n",
       "        text-align: right;\n",
       "    }\n",
       "</style>\n",
       "<table border=\"1\" class=\"dataframe\">\n",
       "  <thead>\n",
       "    <tr style=\"text-align: right;\">\n",
       "      <th></th>\n",
       "      <th>face</th>\n",
       "      <th>weight</th>\n",
       "    </tr>\n",
       "  </thead>\n",
       "  <tbody>\n",
       "    <tr>\n",
       "      <th>0</th>\n",
       "      <td>1</td>\n",
       "      <td>1.0</td>\n",
       "    </tr>\n",
       "    <tr>\n",
       "      <th>1</th>\n",
       "      <td>2</td>\n",
       "      <td>1.0</td>\n",
       "    </tr>\n",
       "    <tr>\n",
       "      <th>2</th>\n",
       "      <td>3</td>\n",
       "      <td>1.0</td>\n",
       "    </tr>\n",
       "    <tr>\n",
       "      <th>3</th>\n",
       "      <td>4</td>\n",
       "      <td>1.0</td>\n",
       "    </tr>\n",
       "    <tr>\n",
       "      <th>4</th>\n",
       "      <td>5</td>\n",
       "      <td>1.0</td>\n",
       "    </tr>\n",
       "    <tr>\n",
       "      <th>5</th>\n",
       "      <td>6</td>\n",
       "      <td>5.0</td>\n",
       "    </tr>\n",
       "  </tbody>\n",
       "</table>\n",
       "</div>"
      ],
      "text/plain": [
       "   face  weight\n",
       "0     1     1.0\n",
       "1     2     1.0\n",
       "2     3     1.0\n",
       "3     4     1.0\n",
       "4     5     1.0\n",
       "5     6     5.0"
      ]
     },
     "execution_count": 9,
     "metadata": {},
     "output_type": "execute_result"
    }
   ],
   "source": [
    "fair_die1 = Die([1,2,3,4,5,6])\n",
    "unfair_die1 = Die([1,2,3,4,5,6])\n",
    "unfair_die1.change_w(6,5)\n",
    "unfair_die1._die_df"
   ]
  },
  {
   "cell_type": "code",
   "execution_count": 10,
   "id": "7b081fff-e584-43c4-ba89-01d643fa7fe2",
   "metadata": {},
   "outputs": [
    {
     "data": {
      "text/html": [
       "<div>\n",
       "<style scoped>\n",
       "    .dataframe tbody tr th:only-of-type {\n",
       "        vertical-align: middle;\n",
       "    }\n",
       "\n",
       "    .dataframe tbody tr th {\n",
       "        vertical-align: top;\n",
       "    }\n",
       "\n",
       "    .dataframe thead th {\n",
       "        text-align: right;\n",
       "    }\n",
       "</style>\n",
       "<table border=\"1\" class=\"dataframe\">\n",
       "  <thead>\n",
       "    <tr style=\"text-align: right;\">\n",
       "      <th></th>\n",
       "      <th>face</th>\n",
       "      <th>weight</th>\n",
       "    </tr>\n",
       "  </thead>\n",
       "  <tbody>\n",
       "    <tr>\n",
       "      <th>0</th>\n",
       "      <td>1</td>\n",
       "      <td>5.0</td>\n",
       "    </tr>\n",
       "    <tr>\n",
       "      <th>1</th>\n",
       "      <td>2</td>\n",
       "      <td>1.0</td>\n",
       "    </tr>\n",
       "    <tr>\n",
       "      <th>2</th>\n",
       "      <td>3</td>\n",
       "      <td>1.0</td>\n",
       "    </tr>\n",
       "    <tr>\n",
       "      <th>3</th>\n",
       "      <td>4</td>\n",
       "      <td>1.0</td>\n",
       "    </tr>\n",
       "    <tr>\n",
       "      <th>4</th>\n",
       "      <td>5</td>\n",
       "      <td>1.0</td>\n",
       "    </tr>\n",
       "    <tr>\n",
       "      <th>5</th>\n",
       "      <td>6</td>\n",
       "      <td>1.0</td>\n",
       "    </tr>\n",
       "  </tbody>\n",
       "</table>\n",
       "</div>"
      ],
      "text/plain": [
       "   face  weight\n",
       "0     1     5.0\n",
       "1     2     1.0\n",
       "2     3     1.0\n",
       "3     4     1.0\n",
       "4     5     1.0\n",
       "5     6     1.0"
      ]
     },
     "execution_count": 10,
     "metadata": {},
     "output_type": "execute_result"
    }
   ],
   "source": [
    "unfair_die2 = Die([1,2,3,4,5,6])\n",
    "unfair_die2.change_w(1,5)\n",
    "unfair_die2._die_df"
   ]
  },
  {
   "cell_type": "markdown",
   "id": "273d8d67-35da-46b0-ab4b-5b6024d8a3fd",
   "metadata": {},
   "source": [
    "### 2. Play a game of 10000 rolls with 5 fair dice."
   ]
  },
  {
   "cell_type": "code",
   "execution_count": 11,
   "id": "be03c542-cc43-49a0-80a3-6fd7b09f5682",
   "metadata": {},
   "outputs": [],
   "source": [
    "game1 = Game([fair_die1,fair_die1,fair_die1,fair_die1,fair_die1])\n",
    "nrolls1 = 10000\n",
    "game1.play(nrolls1)"
   ]
  },
  {
   "cell_type": "markdown",
   "id": "1eb56674-06f1-43a0-9599-75b6588ca965",
   "metadata": {},
   "source": [
    "### 3. Play a game of 10000 rolls with 2 unfair dice of type 1, 1 unfair die of type 2, and the rest fair dice."
   ]
  },
  {
   "cell_type": "code",
   "execution_count": 12,
   "id": "77b7f68d-aa16-4c53-97c7-85c18d3e9973",
   "metadata": {},
   "outputs": [],
   "source": [
    "game2 = Game([unfair_die1,unfair_die1,unfair_die2,fair_die1,fair_die1])\n",
    "nrolls2 = 10000\n",
    "game2.play(nrolls2)"
   ]
  },
  {
   "cell_type": "markdown",
   "id": "a453c150-66ca-4c04-8d2f-606cc7a704de",
   "metadata": {},
   "source": [
    "### 4. For each game, use an Analyzer object to determine the relative frequency of jackpots and show your results, comparing the two relative frequencies, in a simple bar chart."
   ]
  },
  {
   "cell_type": "code",
   "execution_count": 13,
   "id": "1ab4422e-5af9-417e-9676-c3b0000a9386",
   "metadata": {},
   "outputs": [],
   "source": [
    "analyzer1 = Analyzer(game1)\n",
    "analyzer2 = Analyzer(game2)"
   ]
  },
  {
   "cell_type": "code",
   "execution_count": 14,
   "id": "6c004a1d-4c89-4b6b-a145-7df39e981bca",
   "metadata": {},
   "outputs": [
    {
     "name": "stdout",
     "output_type": "stream",
     "text": [
      "Game 1 jackpot frequency: 0.0006\n",
      "Game 2 Jackpot frequency: 0.0008\n"
     ]
    }
   ],
   "source": [
    "g1jf = analyzer1.jackpot()/nrolls1\n",
    "g2jf = analyzer2.jackpot()/nrolls2\n",
    "print(\"Game 1 jackpot frequency:\",g1jf)\n",
    "print(\"Game 2 Jackpot frequency:\",g2jf)"
   ]
  },
  {
   "cell_type": "code",
   "execution_count": 15,
   "id": "bf508b9c-c4f1-49b2-af75-80327027fa4c",
   "metadata": {},
   "outputs": [
    {
     "data": {
      "text/plain": [
       "<BarContainer object of 2 artists>"
      ]
     },
     "execution_count": 15,
     "metadata": {},
     "output_type": "execute_result"
    },
    {
     "data": {
      "image/png": "[encoded data removed]",
      "text/plain": [
       "<Figure size 432x288 with 1 Axes>"
      ]
     },
     "metadata": {
      "needs_background": "light"
     },
     "output_type": "display_data"
    }
   ],
   "source": [
    "plt.bar(['Game 1 jackpot frequency','Game 2 jackpot frequency'],[g1jf,g2jf])"
   ]
  },
  {
   "cell_type": "markdown",
   "id": "d1f29486-b476-4d54-a0da-26827e9c226a",
   "metadata": {},
   "source": [
    "### 5. Also compute 10 most frequent combinations of faces for each game. Plot each of these as bar charts."
   ]
  },
  {
   "cell_type": "code",
   "execution_count": 16,
   "id": "fd26ec67-efc0-4619-9eec-42580206788d",
   "metadata": {},
   "outputs": [],
   "source": [
    "game1frequent = analyzer1.combo().head(10)\n",
    "game2frequent = analyzer2.combo().head(10)\n",
    "labels1 = [str(x) for x in game1frequent.index]\n",
    "labels2 = [str(x) for x in game2frequent.index]"
   ]
  },
  {
   "cell_type": "code",
   "execution_count": 17,
   "id": "b4e49902-c5e5-4c75-a9c0-8187ebc71764",
   "metadata": {},
   "outputs": [
    {
     "name": "stderr",
     "output_type": "stream",
     "text": [
      "/tmp/ipykernel_33245/2711478076.py:2: UserWarning: FixedFormatter should only be used together with FixedLocator\n",
      "  ax.set_xticklabels(labels1,rotation=-90)\n"
     ]
    },
    {
     "data": {
      "text/plain": [
       "<BarContainer object of 10 artists>"
      ]
     },
     "execution_count": 17,
     "metadata": {},
     "output_type": "execute_result"
    },
    {
     "data": {
      "image/png": "[encoded data removed]",
      "text/plain": [
       "<Figure size 1440x720 with 1 Axes>"
      ]
     },
     "metadata": {
      "needs_background": "light"
     },
     "output_type": "display_data"
    }
   ],
   "source": [
    "fig,ax = plt.subplots(figsize=(20,10))\n",
    "ax.set_xticklabels(labels1,rotation=-90)\n",
    "ax.set_title('game1 Most Frequent Combinations')\n",
    "ax.set_xlabel('combination')\n",
    "ax.set_ylabel('counts')\n",
    "ax.bar(labels1,game1frequent.counts)"
   ]
  },
  {
   "cell_type": "code",
   "execution_count": 18,
   "id": "ea9b382c-3eba-4fda-a820-4bf56a6f7a2e",
   "metadata": {},
   "outputs": [
    {
     "name": "stderr",
     "output_type": "stream",
     "text": [
      "/tmp/ipykernel_33245/3509191893.py:2: UserWarning: FixedFormatter should only be used together with FixedLocator\n",
      "  ax.set_xticklabels(labels1,rotation=-90)\n"
     ]
    },
    {
     "data": {
      "text/plain": [
       "<BarContainer object of 10 artists>"
      ]
     },
     "execution_count": 18,
     "metadata": {},
     "output_type": "execute_result"
    },
    {
     "data": {
      "image/png": "[encoded data removed]",
      "text/plain": [
       "<Figure size 1440x720 with 1 Axes>"
      ]
     },
     "metadata": {
      "needs_background": "light"
     },
     "output_type": "display_data"
    }
   ],
   "source": [
    "fig,ax = plt.subplots(figsize=(20,10))\n",
    "ax.set_xticklabels(labels1,rotation=-90)\n",
    "ax.set_title('game2 Most Frequent Combinations')\n",
    "ax.set_xlabel('combination')\n",
    "ax.set_ylabel('counts')\n",
    "ax.bar(labels2,game2frequent.counts)"
   ]
  },
  {
   "cell_type": "markdown",
   "id": "2605997f",
   "metadata": {},
   "source": [
    "## Scenario 3: Letters of the Roman Alphabet\n",
    "### 1. Create a \"die\" of letters from a to z with weights based on their frequency of usage. See Appendix for these weights."
   ]
  },
  {
   "cell_type": "code",
   "execution_count": 19,
   "id": "f3b4e647-c427-4d67-8a44-ca79fa51c174",
   "metadata": {},
   "outputs": [
    {
     "data": {
      "text/html": [
       "<div>\n",
       "<style scoped>\n",
       "    .dataframe tbody tr th:only-of-type {\n",
       "        vertical-align: middle;\n",
       "    }\n",
       "\n",
       "    .dataframe tbody tr th {\n",
       "        vertical-align: top;\n",
       "    }\n",
       "\n",
       "    .dataframe thead th {\n",
       "        text-align: right;\n",
       "    }\n",
       "</style>\n",
       "<table border=\"1\" class=\"dataframe\">\n",
       "  <thead>\n",
       "    <tr style=\"text-align: right;\">\n",
       "      <th></th>\n",
       "      <th>face</th>\n",
       "      <th>weight</th>\n",
       "    </tr>\n",
       "  </thead>\n",
       "  <tbody>\n",
       "    <tr>\n",
       "      <th>0</th>\n",
       "      <td>A</td>\n",
       "      <td>8.4966</td>\n",
       "    </tr>\n",
       "    <tr>\n",
       "      <th>1</th>\n",
       "      <td>B</td>\n",
       "      <td>2.0720</td>\n",
       "    </tr>\n",
       "    <tr>\n",
       "      <th>2</th>\n",
       "      <td>C</td>\n",
       "      <td>4.5388</td>\n",
       "    </tr>\n",
       "    <tr>\n",
       "      <th>3</th>\n",
       "      <td>D</td>\n",
       "      <td>3.3844</td>\n",
       "    </tr>\n",
       "    <tr>\n",
       "      <th>4</th>\n",
       "      <td>E</td>\n",
       "      <td>11.1607</td>\n",
       "    </tr>\n",
       "    <tr>\n",
       "      <th>5</th>\n",
       "      <td>F</td>\n",
       "      <td>1.8121</td>\n",
       "    </tr>\n",
       "    <tr>\n",
       "      <th>6</th>\n",
       "      <td>G</td>\n",
       "      <td>2.4705</td>\n",
       "    </tr>\n",
       "    <tr>\n",
       "      <th>7</th>\n",
       "      <td>H</td>\n",
       "      <td>3.0034</td>\n",
       "    </tr>\n",
       "    <tr>\n",
       "      <th>8</th>\n",
       "      <td>I</td>\n",
       "      <td>7.5448</td>\n",
       "    </tr>\n",
       "    <tr>\n",
       "      <th>9</th>\n",
       "      <td>J</td>\n",
       "      <td>0.1965</td>\n",
       "    </tr>\n",
       "    <tr>\n",
       "      <th>10</th>\n",
       "      <td>K</td>\n",
       "      <td>1.1016</td>\n",
       "    </tr>\n",
       "    <tr>\n",
       "      <th>11</th>\n",
       "      <td>L</td>\n",
       "      <td>5.4893</td>\n",
       "    </tr>\n",
       "    <tr>\n",
       "      <th>12</th>\n",
       "      <td>M</td>\n",
       "      <td>3.0129</td>\n",
       "    </tr>\n",
       "    <tr>\n",
       "      <th>13</th>\n",
       "      <td>N</td>\n",
       "      <td>6.6544</td>\n",
       "    </tr>\n",
       "    <tr>\n",
       "      <th>14</th>\n",
       "      <td>O</td>\n",
       "      <td>7.1635</td>\n",
       "    </tr>\n",
       "    <tr>\n",
       "      <th>15</th>\n",
       "      <td>P</td>\n",
       "      <td>3.1671</td>\n",
       "    </tr>\n",
       "    <tr>\n",
       "      <th>16</th>\n",
       "      <td>Q</td>\n",
       "      <td>0.1962</td>\n",
       "    </tr>\n",
       "    <tr>\n",
       "      <th>17</th>\n",
       "      <td>R</td>\n",
       "      <td>7.5809</td>\n",
       "    </tr>\n",
       "    <tr>\n",
       "      <th>18</th>\n",
       "      <td>S</td>\n",
       "      <td>5.7351</td>\n",
       "    </tr>\n",
       "    <tr>\n",
       "      <th>19</th>\n",
       "      <td>T</td>\n",
       "      <td>6.9509</td>\n",
       "    </tr>\n",
       "    <tr>\n",
       "      <th>20</th>\n",
       "      <td>U</td>\n",
       "      <td>3.6308</td>\n",
       "    </tr>\n",
       "    <tr>\n",
       "      <th>21</th>\n",
       "      <td>V</td>\n",
       "      <td>1.0074</td>\n",
       "    </tr>\n",
       "    <tr>\n",
       "      <th>22</th>\n",
       "      <td>W</td>\n",
       "      <td>1.2899</td>\n",
       "    </tr>\n",
       "    <tr>\n",
       "      <th>23</th>\n",
       "      <td>X</td>\n",
       "      <td>0.2902</td>\n",
       "    </tr>\n",
       "    <tr>\n",
       "      <th>24</th>\n",
       "      <td>Y</td>\n",
       "      <td>1.7779</td>\n",
       "    </tr>\n",
       "    <tr>\n",
       "      <th>25</th>\n",
       "      <td>Z</td>\n",
       "      <td>0.2722</td>\n",
       "    </tr>\n",
       "  </tbody>\n",
       "</table>\n",
       "</div>"
      ],
      "text/plain": [
       "   face   weight\n",
       "0     A   8.4966\n",
       "1     B   2.0720\n",
       "2     C   4.5388\n",
       "3     D   3.3844\n",
       "4     E  11.1607\n",
       "5     F   1.8121\n",
       "6     G   2.4705\n",
       "7     H   3.0034\n",
       "8     I   7.5448\n",
       "9     J   0.1965\n",
       "10    K   1.1016\n",
       "11    L   5.4893\n",
       "12    M   3.0129\n",
       "13    N   6.6544\n",
       "14    O   7.1635\n",
       "15    P   3.1671\n",
       "16    Q   0.1962\n",
       "17    R   7.5809\n",
       "18    S   5.7351\n",
       "19    T   6.9509\n",
       "20    U   3.6308\n",
       "21    V   1.0074\n",
       "22    W   1.2899\n",
       "23    X   0.2902\n",
       "24    Y   1.7779\n",
       "25    Z   0.2722"
      ]
     },
     "execution_count": 19,
     "metadata": {},
     "output_type": "execute_result"
    }
   ],
   "source": [
    "letters = ['A','B','C','D','E','F','G','H','I','J','K','L','M','N','O','P','Q','R','S','T','U','V','W','X','Y','Z']\n",
    "frequency = [8.4966,2.072,4.5388,3.3844,11.1607,1.8121,2.4705,3.0034,7.5448,0.1965,1.1016,5.4893,3.0129,6.6544,7.1635,3.1671,0.1962,7.5809,5.7351,6.9509,3.6308,1.0074,1.2899,0.2902,1.7779,0.2722]\n",
    "die1 = Die(letters)\n",
    "for i,face in enumerate(letters):\n",
    "    weight = frequency[i]\n",
    "    die1.change_w(face,weight)\n",
    "die1._die_df"
   ]
  },
  {
   "cell_type": "markdown",
   "id": "a400acf0-0adf-451f-a839-6a843206e7f9",
   "metadata": {},
   "source": [
    "### 2. Play a game involving 5 of these dice with 1000 rolls."
   ]
  },
  {
   "cell_type": "code",
   "execution_count": 74,
   "id": "79bedf05-e4cb-4a41-a699-0aa3067d3f7c",
   "metadata": {},
   "outputs": [],
   "source": [
    "game1 = Game(np.full(5,die1))\n",
    "game1.play(1000)"
   ]
  },
  {
   "cell_type": "markdown",
   "id": "38120839-1e2e-47ae-ab1f-22e5a0395f11",
   "metadata": {},
   "source": [
    "### 3. How many combos can you that look like actual English words?\n",
    "***NOTE: \"combo\" here should really be permutation, which make sense for words. So just compute these from the result data you get from the Game object.***"
   ]
  },
  {
   "cell_type": "code",
   "execution_count": 80,
   "id": "45abd1b2-0864-478c-8371-701a7c29417c",
   "metadata": {},
   "outputs": [
    {
     "data": {
      "text/html": [
       "<div>\n",
       "<style scoped>\n",
       "    .dataframe tbody tr th:only-of-type {\n",
       "        vertical-align: middle;\n",
       "    }\n",
       "\n",
       "    .dataframe tbody tr th {\n",
       "        vertical-align: top;\n",
       "    }\n",
       "\n",
       "    .dataframe thead th {\n",
       "        text-align: right;\n",
       "    }\n",
       "</style>\n",
       "<table border=\"1\" class=\"dataframe\">\n",
       "  <thead>\n",
       "    <tr style=\"text-align: right;\">\n",
       "      <th></th>\n",
       "      <th>0</th>\n",
       "      <th>1</th>\n",
       "      <th>2</th>\n",
       "      <th>3</th>\n",
       "      <th>4</th>\n",
       "      <th>5</th>\n",
       "      <th>6</th>\n",
       "      <th>7</th>\n",
       "      <th>8</th>\n",
       "      <th>9</th>\n",
       "      <th>...</th>\n",
       "      <th>990</th>\n",
       "      <th>991</th>\n",
       "      <th>992</th>\n",
       "      <th>993</th>\n",
       "      <th>994</th>\n",
       "      <th>995</th>\n",
       "      <th>996</th>\n",
       "      <th>997</th>\n",
       "      <th>998</th>\n",
       "      <th>999</th>\n",
       "    </tr>\n",
       "  </thead>\n",
       "  <tbody>\n",
       "    <tr>\n",
       "      <th>0</th>\n",
       "      <td>N</td>\n",
       "      <td>T</td>\n",
       "      <td>M</td>\n",
       "      <td>I</td>\n",
       "      <td>P</td>\n",
       "      <td>O</td>\n",
       "      <td>E</td>\n",
       "      <td>R</td>\n",
       "      <td>R</td>\n",
       "      <td>U</td>\n",
       "      <td>...</td>\n",
       "      <td>E</td>\n",
       "      <td>S</td>\n",
       "      <td>N</td>\n",
       "      <td>M</td>\n",
       "      <td>T</td>\n",
       "      <td>L</td>\n",
       "      <td>C</td>\n",
       "      <td>D</td>\n",
       "      <td>T</td>\n",
       "      <td>A</td>\n",
       "    </tr>\n",
       "    <tr>\n",
       "      <th>1</th>\n",
       "      <td>H</td>\n",
       "      <td>O</td>\n",
       "      <td>I</td>\n",
       "      <td>I</td>\n",
       "      <td>U</td>\n",
       "      <td>T</td>\n",
       "      <td>E</td>\n",
       "      <td>E</td>\n",
       "      <td>H</td>\n",
       "      <td>I</td>\n",
       "      <td>...</td>\n",
       "      <td>I</td>\n",
       "      <td>E</td>\n",
       "      <td>T</td>\n",
       "      <td>R</td>\n",
       "      <td>O</td>\n",
       "      <td>C</td>\n",
       "      <td>D</td>\n",
       "      <td>E</td>\n",
       "      <td>E</td>\n",
       "      <td>G</td>\n",
       "    </tr>\n",
       "    <tr>\n",
       "      <th>2</th>\n",
       "      <td>R</td>\n",
       "      <td>U</td>\n",
       "      <td>R</td>\n",
       "      <td>N</td>\n",
       "      <td>Y</td>\n",
       "      <td>S</td>\n",
       "      <td>E</td>\n",
       "      <td>P</td>\n",
       "      <td>O</td>\n",
       "      <td>W</td>\n",
       "      <td>...</td>\n",
       "      <td>V</td>\n",
       "      <td>N</td>\n",
       "      <td>I</td>\n",
       "      <td>A</td>\n",
       "      <td>N</td>\n",
       "      <td>T</td>\n",
       "      <td>N</td>\n",
       "      <td>E</td>\n",
       "      <td>S</td>\n",
       "      <td>I</td>\n",
       "    </tr>\n",
       "    <tr>\n",
       "      <th>3</th>\n",
       "      <td>C</td>\n",
       "      <td>R</td>\n",
       "      <td>E</td>\n",
       "      <td>T</td>\n",
       "      <td>K</td>\n",
       "      <td>A</td>\n",
       "      <td>D</td>\n",
       "      <td>T</td>\n",
       "      <td>S</td>\n",
       "      <td>P</td>\n",
       "      <td>...</td>\n",
       "      <td>M</td>\n",
       "      <td>O</td>\n",
       "      <td>Y</td>\n",
       "      <td>A</td>\n",
       "      <td>N</td>\n",
       "      <td>C</td>\n",
       "      <td>S</td>\n",
       "      <td>U</td>\n",
       "      <td>I</td>\n",
       "      <td>P</td>\n",
       "    </tr>\n",
       "    <tr>\n",
       "      <th>4</th>\n",
       "      <td>D</td>\n",
       "      <td>L</td>\n",
       "      <td>T</td>\n",
       "      <td>N</td>\n",
       "      <td>A</td>\n",
       "      <td>O</td>\n",
       "      <td>D</td>\n",
       "      <td>P</td>\n",
       "      <td>I</td>\n",
       "      <td>A</td>\n",
       "      <td>...</td>\n",
       "      <td>E</td>\n",
       "      <td>L</td>\n",
       "      <td>W</td>\n",
       "      <td>O</td>\n",
       "      <td>T</td>\n",
       "      <td>C</td>\n",
       "      <td>O</td>\n",
       "      <td>D</td>\n",
       "      <td>T</td>\n",
       "      <td>O</td>\n",
       "    </tr>\n",
       "  </tbody>\n",
       "</table>\n",
       "<p>5 rows × 1000 columns</p>\n",
       "</div>"
      ],
      "text/plain": [
       "  0   1   2   3   4   5   6   7   8   9    ... 990 991 992 993 994 995 996  \\\n",
       "0   N   T   M   I   P   O   E   R   R   U  ...   E   S   N   M   T   L   C   \n",
       "1   H   O   I   I   U   T   E   E   H   I  ...   I   E   T   R   O   C   D   \n",
       "2   R   U   R   N   Y   S   E   P   O   W  ...   V   N   I   A   N   T   N   \n",
       "3   C   R   E   T   K   A   D   T   S   P  ...   M   O   Y   A   N   C   S   \n",
       "4   D   L   T   N   A   O   D   P   I   A  ...   E   L   W   O   T   C   O   \n",
       "\n",
       "  997 998 999  \n",
       "0   D   T   A  \n",
       "1   E   E   G  \n",
       "2   E   S   I  \n",
       "3   U   I   P  \n",
       "4   D   T   O  \n",
       "\n",
       "[5 rows x 1000 columns]"
      ]
     },
     "execution_count": 80,
     "metadata": {},
     "output_type": "execute_result"
    }
   ],
   "source": [
    "df = game1._df\n",
    "df = df.T\n",
    "df"
   ]
  },
  {
   "cell_type": "code",
   "execution_count": 90,
   "id": "034e44e3-1291-4126-85b7-66f0fa83b10a",
   "metadata": {},
   "outputs": [],
   "source": [
    "game1combos = [''.join(list(df[x])).lower() for x in list(df.columns)]\n",
    "realwords = list(pd.read_csv('five_letter_words.csv',header=None)[0])"
   ]
  },
  {
   "cell_type": "code",
   "execution_count": 93,
   "id": "d5588441-d5df-4fab-bcad-3c6358e8dd18",
   "metadata": {},
   "outputs": [
    {
     "name": "stdout",
     "output_type": "stream",
     "text": [
      "2 combos look like real English words.\n"
     ]
    },
    {
     "data": {
      "text/plain": [
       "['heirs', 'smile']"
      ]
     },
     "execution_count": 93,
     "metadata": {},
     "output_type": "execute_result"
    }
   ],
   "source": [
    "realcombos = []\n",
    "for combo in game1combos:\n",
    "    if combo in realwords:\n",
    "        realcombos.append(combo)\n",
    "print(len(realcombos), \"combos look like real English words.\")\n",
    "realcombos"
   ]
  },
  {
   "cell_type": "markdown",
   "id": "1aad7529-8636-468e-b408-79f8f6962c52",
   "metadata": {},
   "source": [
    "### 4. Based on your eye count, what is the relative frequency of these words versus the rest?\n",
    "***NOTE: You can do a few random sample to compute your estimate.***"
   ]
  },
  {
   "cell_type": "code",
   "execution_count": 98,
   "id": "9cdf8ad7-963c-45f0-b0ce-e59aa2af1c8e",
   "metadata": {},
   "outputs": [
    {
     "data": {
      "text/plain": [
       "'turwc'"
      ]
     },
     "execution_count": 98,
     "metadata": {},
     "output_type": "execute_result"
    }
   ],
   "source": [
    "random.choice(game1combos)"
   ]
  },
  {
   "cell_type": "markdown",
   "id": "c8706948-6a21-419e-a39d-16b942984722",
   "metadata": {},
   "source": [
    "It looks like each of these word's frequency is 1/1000 based on our list size and their frequency."
   ]
  },
  {
   "cell_type": "code",
   "execution_count": null,
   "id": "dc57f3c9-ebf5-4aa2-8644-902b781b66cd",
   "metadata": {},
   "outputs": [],
   "source": []
  }
 ],
 "metadata": {
  "kernelspec": {
   "display_name": "Python 3 (ipykernel)",
   "language": "python",
   "name": "python3"
  },
  "language_info": {
   "codemirror_mode": {
    "name": "ipython",
    "version": 3
   },
   "file_extension": ".py",
   "mimetype": "text/x-python",
   "name": "python",
   "nbconvert_exporter": "python",
   "pygments_lexer": "ipython3",
   "version": "3.9.12"
  },
  "vscode": {
   "interpreter": {
    "hash": "5abf9a257024fa0ae177d32ddc0977bda32aa95f4f2d5d07f829679a9e9e7642"
   }
  }
 },
 "nbformat": 4,
 "nbformat_minor": 5
}
